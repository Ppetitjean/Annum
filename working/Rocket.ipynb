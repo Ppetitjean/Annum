{
 "cells": [
  {
   "cell_type": "markdown",
   "metadata": {},
   "source": [
    "# Modélisation d'un vol d'une fusée"
   ]
  },
  {
   "cell_type": "markdown",
   "metadata": {
    "collapsed": true
   },
   "source": [
    "## 1. Introduction\n",
    "\n",
    "\n",
    "Nous allons étudier la trajectoire de vol d'une fusée dans l'air. En utilisant le langage Python nous allons la calculer numériquement. L'équation de la fusé est decrite comme suit :\n",
    "\n",
    "\n",
    "\\begin{align}\n",
    "\\frac{dh}{dt}& = v \\\\\n",
    "(m_s+m_p) \\frac{dv}{dt}& = -(m_s+m_p)g + \\dot{m}_pv_e - \\frac{1}{2}\\rho v|v|AC_D\n",
    "\\end{align}\n",
    "\n",
    "\n",
    "$m_s = 50kg$ est la masse de fusée hors carburant\n",
    "\n",
    "$g = 9.81 \\frac{m}{s^2}$ est l'accélération du à la gravité supposée constante\n",
    "\n",
    "$\\rho = 1.091 \\frac{kg}{m^3}$ est la densité de l'air supposée constante\n",
    "\n",
    "$A = \\pi r^2$ est l'air de la section transverse de la fusée et vaut $r = 0.5 m$\n",
    "\n",
    "$v_e = 325 \\frac{m}{s}$ est la vitesse d'éjection du gaz à la sortie de la tuyère\n",
    "\n",
    "$C_D = 0.15 $ est le coefficient de trainer\n",
    "\n",
    "\n",
    "\n",
    "On suposera aussi que la masse du carburant enbarqué évolue selon la loi \n",
    "$$mp = mp - \\int^t_0 20 d\\tau$$ où 20 est la consomation de kilo de carburant par seconde.\n",
    "\n",
    "\n",
    "## 2.Résolution\n",
    "\n",
    "\n",
    "Comme la résolution analytique est peu commode nous resolverons le problème précédent de manière numérique. \n",
    "\n",
    "Pour résoudre numériquement ce problème, nous utiliserons la méthode d'Euler progressive. La descrétisation est comme suit :\n",
    "\n",
    "\n",
    "$$ h_{n+1} = h_n + f(h_n) \\Delta t $$\n",
    "$$ v_{n+1} = v_n + g(v_n) \\Delta t $$\n",
    "Ce qui donnera au final :\n",
    "$$ v_{n+1} = \\-g + frac { 20 ve - 0.5 \\rho |v_n|v_n A Cd }{ms+mp} \\Delta t + v_n $$\n",
    "$$ h_{n+1} = v_n \\Delta t + h_n $$\n"
   ]
  },
  {
   "cell_type": "markdown",
   "metadata": {},
   "source": [
    "Nous importons quelques libraires pour effectués cette résolution. La première est numpy est une libraire avec des fonctionnalités orientées calculs. De cette librairie nous allons utiliser les numpy arrays. Ces types de données ont l'avantage par rapport aux listes directement implémentées dans python d'avoir des fonctionnalités sumplémentaires.\n",
    "Ensuite nous utiliserons matplotlib pour afficher les graphiques"
   ]
  },
  {
   "cell_type": "code",
   "execution_count": 31,
   "metadata": {
    "collapsed": true
   },
   "outputs": [],
   "source": [
    "\"\"\"\n",
    "importation des librairies\n",
    "\"\"\"\n",
    "\n",
    "import numpy\n",
    "import matplotlib.pyplot as plt\n",
    "%matplotlib inline"
   ]
  },
  {
   "cell_type": "code",
   "execution_count": 32,
   "metadata": {
    "collapsed": false
   },
   "outputs": [],
   "source": [
    "\"\"\"\n",
    "initialisation des variables\n",
    "\"\"\"\n",
    "step = 0.1\n",
    "ms = 50\n",
    "g = 9.81\n",
    "p = 1.091\n",
    "r = 0.5\n",
    "A = numpy.pi*(r**2)\n",
    "ve = 325\n",
    "Cd = 0.15\n",
    "mp =  100\n",
    "hn = 0\n",
    "vi = 0\n",
    "i = 0\n",
    "\n",
    "first_estimate = 40 #estimation du temps \n",
    "len_descrit_vec = int(first_estimate/step)+1 # donne la tailme des vecteurs\n",
    "\n",
    "t = numpy.linspace(0,first_estimate,int(len_descrit_vec)) \n",
    "v = numpy.zeros(len_descrit_vec)\n",
    "h = numpy.zeros(len_descrit_vec)\n",
    "m = numpy.zeros(len_descrit_vec)"
   ]
  },
  {
   "cell_type": "markdown",
   "metadata": {},
   "source": [
    "On definit dans le cadre précédent les variables nécessaires au bon fonctionnement de la boucle ainsi que les variables globales introduite dans l'équation décrivant le système. les vecteurs t,v,h,m sont repectivement les vecteurs qui receveront les valeurs calculers pendant l'execution de la boucle. La taille de ces vecteurs est calculé sur le nombre d'itération necessaire pour calculer toute la simulation. Ce nombre d'itération est la taille de l'intervalle de la simulation  divisée par la taille du step (pas d'intégration). La taille de l'intervalle a été estimé en post traitement. En effet il est relativement compliqué de traité un vecteur de taille non-prédéfinie avec une numpy array. \n",
    "\n"
   ]
  },
  {
   "cell_type": "code",
   "execution_count": 33,
   "metadata": {
    "collapsed": false
   },
   "outputs": [
    {
     "name": "stdout",
     "output_type": "stream",
     "text": [
      "vitesse est maximale en 5.0 s et vaut 232.1061334126179 m/s où la hauteur vaut 523.5228342918476 m.\n",
      "la hauteur est maximale en t = 15.7 et vaut h = 1334.1829454303067\n",
      "la fusee touche le sol en t = 37.1\n",
      "avec la vitesse -86.00683498380592\n"
     ]
    }
   ],
   "source": [
    "thmax =0 \n",
    "tvmx =0\n",
    "hmax =0\n",
    "hvmx = 0\n",
    "vmx =0\n",
    "tsol =0\n",
    "vsol = 0\n",
    "\n",
    "for i in range(1,int(len_descrit_vec)):\n",
    "    if hn<0:\n",
    "        break\n",
    "    hn = vi * step + hn\n",
    "    if t[i] > 5: # cette boucle if est la pour tenir compte de la masse variable en effet apres 5 seconde \n",
    "                 #il n'y a plus de carburant\n",
    "        mp = 0;\n",
    "        vi = (-g+(-0.5*vi*p*abs(vi)*A*Cd)/(ms+mp))*step + vi\n",
    "    else :\n",
    "        vi = ((-1)*g+20*ve/(ms+mp)-(0.5*vi*p*abs(vi)*A*Cd)/(ms+mp))*step + vi\n",
    "        mp = mp - 20*step\n",
    "\n",
    "    \n",
    "    if hn>hmax:\n",
    "        hmax = hn\n",
    "        tHmax = t[i]\n",
    "    if vi > vmx:\n",
    "        vmx = vi\n",
    "        tvmx = t[i]\n",
    "        hvmx = hn\n",
    "    if hn<0:\n",
    "        tsol = t[i]\n",
    "        vsol = vi\n",
    "\n",
    "    v[i] = vi\n",
    "    h[i] = hn\n",
    "    m[i] = mp\n",
    "    \n",
    "\"\"\"\n",
    "Impression des resultats\n",
    "\"\"\"\n",
    "\n",
    "\n",
    "\n",
    "print(\"vitesse est maximale en \"+str(tvmx)+\" s et vaut \"+str(vmx)+ \" m/s où la hauteur vaut \" + str(hvmx), \"m.\")\n",
    "print(\"la hauteur est maximale en t = \"+ str(tHmax) +\" et vaut h = \"+str(hmax))\n",
    "print(\"la fusee touche le sol en t = \" + str((tsol)))\n",
    "print(\"avec la vitesse \" +str(vsol))"
   ]
  },
  {
   "cell_type": "markdown",
   "metadata": {},
   "source": [
    "Le code se déroule de la manière suivante. On va calculer la valeur suivante de la table en se basant sur la précédente en utilisant la méthode d'Euleur. Les variables definies avant la boucle sont là pour stocker la valeur des différentes information que l'on cherche tel que la hauteur maximale ainsi de suite.\n",
    "\n",
    "Les valeurs initiales sont données par le condition initiale de notre équation différentielles. Ainsi h(0) = 0 et v(0) = 0. \n",
    "\n",
    "A propos de la boucle, elle se décompose en 3 étages de conditions (if). Le premier _if_ est là pour vérifier que le sol est atteint ou pas. En effet si la hauteur devient négative cela signifie bien que l'on a touché le sol. \n",
    "Le deuxième étage de condition est là pour vérifier l'état du carburant. La vitesse cessera de croitre si il n'y a plus de carburant en toute logique. \n",
    "Enfin la dernière série de codition est là pour trouver le maximum des différentes données. Il exite une autre méthode utilisant la fonction numpy.argmax mais cela reviendrait à la même chose. \n",
    "\n"
   ]
  },
  {
   "cell_type": "markdown",
   "metadata": {},
   "source": [
    "## 3.Graphiques et interprétation des résultats"
   ]
  },
  {
   "cell_type": "code",
   "execution_count": 34,
   "metadata": {
    "collapsed": false
   },
   "outputs": [
    {
     "data": {
      "image/png": "[encoded data removed]",
      "text/plain": [
       "<matplotlib.figure.Figure at 0x7f3e41c32eb8>"
      ]
     },
     "metadata": {},
     "output_type": "display_data"
    }
   ],
   "source": [
    "\"\"\"\n",
    "Impression du graphique hauteur\n",
    "\"\"\"\n",
    "\n",
    "plt.figure(figsize=(10,5))\n",
    "plt.plot(t,h,label=\"hauteur\")\n",
    "plt.grid(True)\n",
    "plt.title(\"hauteur de la fusée en fonction du temps\")\n",
    "plt.xlabel('t (s)')\n",
    "plt.ylabel('h (m)')\n",
    "plt.legend()\n",
    "plt.show() "
   ]
  },
  {
   "cell_type": "markdown",
   "metadata": {},
   "source": [
    "Analysons le graphique de la hauteur. On observe bien la première phase du vol où la fusée accélère. Cela se traduit graphiquement par une concavité négative. Physiquement, nous avant la même intuition vu que on continue à éjecter du carburant durant cette partie. Après 5 sec, nous changeons de concavité pour atteindre un maximum. Puis la fusée vas descendre en accélerant du à la gravité. Enfin en t = 37.1 s la fusée touche le sol ce qui explique pourquoi la hauteur est nul après ce temps-là."
   ]
  },
  {
   "cell_type": "code",
   "execution_count": 35,
   "metadata": {
    "collapsed": false,
    "scrolled": true
   },
   "outputs": [
    {
     "data": {
      "image/png": "[encoded data removed]",
      "text/plain": [
       "<matplotlib.figure.Figure at 0x7f3e41b81518>"
      ]
     },
     "metadata": {},
     "output_type": "display_data"
    }
   ],
   "source": [
    "\"\"\"\n",
    "Impression du graphique vitesse\n",
    "\"\"\"\n",
    "plt.figure(figsize=(10,5))\n",
    "plt.plot(t,v, label= \"vitesse\")\n",
    "plt.xlabel('t (s)')\n",
    "plt.ylabel('v (m/s)')\n",
    "plt.title(\"vitesse de la fusée en fonction du temps\")\n",
    "plt.grid(True)\n",
    "plt.legend()\n",
    "plt.show()"
   ]
  },
  {
   "cell_type": "markdown",
   "metadata": {},
   "source": [
    "Regardons à présent le graphique de la vitesse en fonction du temps. On observe bien que le maximum de la vitesse et le point d'inflexion de la hauteur coïncide. Ce qui est un bon point car nous retrouvons bien le vient entre la vitesse et la hauteur la première étant la dérivée de la seconde. Un deuxième point intéressant est d'observé que la vitesse ne tends pas vers $ - \\infty$. Nous avons modélisés des forces de frotements dans nos calculs. Cette diminution de la pente de la vitesse est s'interprète comme un equilibre entre la gravité et les frottements qui ont tendance à s'opposer à cette dernière. Un petit bémol quant à la justesse physique de la simaltion est que la vitesse passe brusquement de -86 m/s à 0. Ceci est normal car nous coupons brusquement la simulation lorsque la fusée touche le sol. \n",
    "\n",
    "\n",
    "Un autre point de l'analyse imporant est de vérifier si notre solution a bien convergé. Regardons le tableau ci-dessous:\n",
    "\n",
    "\n",
    "| step | hmax (m)| vmax(m/s) |\n",
    "|-|-|-|\n",
    "|0,1|1334,2|232.1|\n",
    "|0,01|1348,8|232.4|\n",
    "|0,001|1350,2|232.4|\n",
    "|0,0001|1350,4|232.4||\n",
    "\n",
    "\n",
    "On voit que que l'on a une solution qui a convergé avec un pas de 0.001 . Mais comme on voit que malgré l'utilsation d'un pas de temps assez grossié on a une erreur inférieur au pourcent ce qui est acceptable pour une simulation numérique. Ces différences sont dues à la propagation des érreurs d'apprximation à chaque itération.  "
   ]
  },
  {
   "cell_type": "markdown",
   "metadata": {},
   "source": [
    "## 5. Conclusion\n",
    "\n",
    "\n",
    "Nous avons vérifié nos resultats avec ceux du site et ils sont bons.\n",
    "\n",
    "Au travers de cette exercice, nous avons appris à utiliser de méthodes numériques pour résoudre des équations différentielles difficiles à résoudre analytiquement ainsi que des outils de visualisations graphiques. \n"
   ]
  },
  {
   "cell_type": "code",
   "execution_count": null,
   "metadata": {
    "collapsed": true
   },
   "outputs": [],
   "source": []
  }
 ],
 "metadata": {
  "kernelspec": {
   "display_name": "Python 3",
   "language": "python",
   "name": "python3"
  },
  "language_info": {
   "codemirror_mode": {
    "name": "ipython",
    "version": 3
   },
   "file_extension": ".py",
   "mimetype": "text/x-python",
   "name": "python",
   "nbconvert_exporter": "python",
   "pygments_lexer": "ipython3",
   "version": "3.4.3"
  }
 },
 "nbformat": 4,
 "nbformat_minor": 0
}
