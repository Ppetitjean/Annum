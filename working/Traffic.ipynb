{
 "cells": [
  {
   "cell_type": "code",
   "execution_count": 34,
   "metadata": {
    "collapsed": false,
    "scrolled": true
   },
   "outputs": [
    {
     "name": "stdout",
     "output_type": "stream",
     "text": [
      "[ 10.  10.  10.  10.  10.  10.  10.  10.  10.  10.  50.  50.  50.  50.  50.\n",
      "  50.  50.  50.  50.  50.  10.  10.  10.  10.  10.  10.  10.  10.  10.  10.\n",
      "  10.  10.  10.  10.  10.  10.  10.  10.  10.  10.  10.  10.  10.  10.  10.\n",
      "  10.  10.  10.  10.  10.  10.]\n",
      "17.7777777778\n",
      "20.65359539\n",
      "18.7847168709\n"
     ]
    }
   ],
   "source": [
    "import numpy as np\n",
    "import matplotlib.pyplot as pyplot\n",
    "%matplotlib inline\n",
    "from JSAnimation.IPython_display import display_animation\n",
    "from matplotlib import animation\n",
    "\n",
    "\n",
    "Vmax = 80\n",
    "L = 11\n",
    "Dt = 0.001\n",
    "rhomax = 250\n",
    "nx = 51\n",
    "dx = L/(nx-1)\n",
    "x = np.linspace(0,L,nx)\n",
    "rho0 = np.ones(nx)*10\n",
    "rho0[10:20] = 50\n",
    "print(rho0)\n",
    "nt = int(6/60/Dt)+1\n",
    "rho = np.zeros((nt,nx))\n",
    "rho[0]=rho0\n",
    "v = np.zeros((nt,nx))\n",
    "v[0]= Vmax*(1-rho[0][:]/rhomax)\n",
    "vm = np.zeros(nt)\n",
    "\n",
    "def F(x):\n",
    "    return Vmax*x(1-x/rhomax)\n",
    "\n",
    "for n in range(1, nt):\n",
    "    rhon=rho.copy()\n",
    "    rho[n][1:] = rho[n-1][1:]-Dt/dx*Vmax*((rho[n-1][1:]*(1-rho[n-1][1:]/rhomax))-(rho[n-1][0:-1])*(1-rho[n-1][0:-1]/rhomax))\n",
    "    v[n][:] = Vmax*(1-rho[n][:]/rhomax)\n",
    "    rho[n][0] = 10.0\n",
    "    vm[n]= np.average(v[n])\n",
    "v0= min(v[0])/3.6\n",
    "print(v0)\n",
    "print(vm[50]/3.6)\n",
    "print(min(v[100])/3.6)\n"
   ]
  },
  {
   "cell_type": "code",
   "execution_count": 30,
   "metadata": {
    "collapsed": false
   },
   "outputs": [
    {
     "data": {
      "text/plain": [
       "[<matplotlib.lines.Line2D at 0x7f91eba19908>]"
      ]
     },
     "execution_count": 30,
     "metadata": {},
     "output_type": "execute_result"
    },
    {
     "data": {
      "image/png": "[encoded data removed]",
      "text/plain": [
       "<matplotlib.figure.Figure at 0x7f91ebbdc898>"
      ]
     },
     "metadata": {},
     "output_type": "display_data"
    }
   ],
   "source": [
    "pyplot.plot(x, v[0], color='#003366', ls='--', lw=3)\n"
   ]
  },
  {
   "cell_type": "code",
   "execution_count": 31,
   "metadata": {
    "collapsed": false
   },
   "outputs": [
    {
     "data": {
      "text/plain": [
       "[<matplotlib.lines.Line2D at 0x7f91eb9ce518>]"
      ]
     },
     "execution_count": 31,
     "metadata": {},
     "output_type": "execute_result"
    },
    {
     "data": {
      "image/png": "[encoded data removed]",
      "text/plain": [
       "<matplotlib.figure.Figure at 0x7f91eb9f8518>"
      ]
     },
     "metadata": {},
     "output_type": "display_data"
    }
   ],
   "source": [
    "\n",
    "pyplot.plot(x, rho[100], color='#003366', ls='--', lw=3)"
   ]
  },
  {
   "cell_type": "code",
   "execution_count": 33,
   "metadata": {
    "collapsed": false
   },
   "outputs": [
    {
     "name": "stdout",
     "output_type": "stream",
     "text": [
      "0.22\n",
      "[ 20.  20.  20.  20.  20.  20.  20.  20.  20.  20.  50.  50.  50.  50.  50.\n",
      "  50.  50.  50.  50.  50.  20.  20.  20.  20.  20.  20.  20.  20.  20.  20.\n",
      "  20.  20.  20.  20.  20.  20.  20.  20.  20.  20.  20.  20.  20.  20.  20.\n",
      "  20.  20.  20.  20.  20.  20.]\n",
      "30.2222222222\n",
      "33.9314774502\n",
      "30.9864026806\n"
     ]
    }
   ],
   "source": [
    "import numpy as np\n",
    "import matplotlib.pyplot as pyplot\n",
    "%matplotlib inline\n",
    "from JSAnimation.IPython_display import display_animation\n",
    "from matplotlib import animation\n",
    "\n",
    "\n",
    "Vmax = 136\n",
    "L = 11\n",
    "Dt = 0.001\n",
    "rhomax = 250\n",
    "nx = 51\n",
    "dx = L/(nx-1)\n",
    "print(dx)\n",
    "x = np.linspace(0,L,nx)\n",
    "rho0 = np.ones(nx)*20\n",
    "rho0[10:20] = 50\n",
    "print(rho0)\n",
    "nt = int(6/60/Dt)+1\n",
    "rho = np.zeros((nt,nx))\n",
    "rho[0]=rho0\n",
    "v = np.zeros((nt,nx))\n",
    "v[0]= Vmax*(1-rho[0][:]/rhomax)\n",
    "vm = np.zeros(nt)\n",
    "\n",
    "for n in range(1, nt):\n",
    "    rhon=rho.copy()    \n",
    "    rho[n][1:] = rho[n-1][1:]-Dt/dx*Vmax*((rho[n-1][1:]*(1-rho[n-1][1:]/rhomax))-(rho[n-1][0:-1])*(1-rho[n-1][0:-1]/rhomax))\n",
    "    v[n][:] = Vmax*(1-rho[n][:]/rhomax)\n",
    "    rho[n][0] = 20.0\n",
    "    vm[n]= np.average(v[n])\n",
    "v0= min(v[0])/3.6\n",
    "print(v0)\n",
    "print(vm[50]/3.6)\n",
    "print(min(v[50])/3.6)\n"
   ]
  },
  {
   "cell_type": "code",
   "execution_count": null,
   "metadata": {
    "collapsed": true
   },
   "outputs": [],
   "source": []
  },
  {
   "cell_type": "code",
   "execution_count": null,
   "metadata": {
    "collapsed": true
   },
   "outputs": [],
   "source": []
  },
  {
   "cell_type": "code",
   "execution_count": null,
   "metadata": {
    "collapsed": true
   },
   "outputs": [],
   "source": []
  }
 ],
 "metadata": {
  "kernelspec": {
   "display_name": "Python 3",
   "language": "python",
   "name": "python3"
  },
  "language_info": {
   "codemirror_mode": {
    "name": "ipython",
    "version": 3
   },
   "file_extension": ".py",
   "mimetype": "text/x-python",
   "name": "python",
   "nbconvert_exporter": "python",
   "pygments_lexer": "ipython3",
   "version": "3.4.3"
  }
 },
 "nbformat": 4,
 "nbformat_minor": 0
}
