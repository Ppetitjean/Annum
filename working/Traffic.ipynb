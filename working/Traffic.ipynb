{
 "cells": [
  {
   "cell_type": "code",
   "execution_count": 25,
   "metadata": {
    "collapsed": false
   },
   "outputs": [
    {
     "name": "stdout",
     "output_type": "stream",
     "text": [
      "[ 10.  10.  10.  10.  10.  10.  10.  10.  10.  10.  50.  50.  50.  50.  50.\n",
      "  50.  50.  50.  50.  50.  10.  10.  10.  10.  10.  10.  10.  10.  10.  10.\n",
      "  10.  10.  10.  10.  10.  10.  10.  10.  10.  10.  10.  10.  10.  10.  10.\n",
      "  10.  10.  10.  10.  10.  10.]\n"
     ]
    },
    {
     "name": "stderr",
     "output_type": "stream",
     "text": [
      "/home/ppetitje/anaconda3/lib/python3.4/site-packages/ipykernel/__main__.py:24: RuntimeWarning: overflow encountered in multiply\n",
      "/home/ppetitje/anaconda3/lib/python3.4/site-packages/ipykernel/__main__.py:24: RuntimeWarning: invalid value encountered in subtract\n"
     ]
    },
    {
     "data": {
      "text/plain": [
       "[<matplotlib.lines.Line2D at 0x7f7fcbc350f0>]"
      ]
     },
     "execution_count": 25,
     "metadata": {},
     "output_type": "execute_result"
    },
    {
     "data": {
      "image/png": "[encoded data removed]",
      "text/plain": [
       "<matplotlib.figure.Figure at 0x7f7fcbaf2eb8>"
      ]
     },
     "metadata": {},
     "output_type": "display_data"
    }
   ],
   "source": [
    "import numpy as np\n",
    "import matplotlib.pyplot as pyplot\n",
    "%matplotlib inline\n",
    "\n",
    "Vmax = 80*1000/3600\n",
    "L = 11*1000\n",
    "Dt = 0.001*3600\n",
    "rhomax = 250/1000\n",
    "nx = 51\n",
    "dx = L/(nx-1)\n",
    "\n",
    "x = np.linspace(0,L,nx)\n",
    "rho0 = np.ones(nx)*10\n",
    "rho0[10:20] = 50\n",
    "print(rho0)\n",
    "nt = int(6*60*Dt)+1\n",
    "rho = np.zeros((nt,nx))\n",
    "\n",
    "for n in range(1, nt):\n",
    "    \n",
    "    rhon = rho.copy()\n",
    "    rho[n][0] = 10.0\n",
    "    \n",
    "    rho[n][1:] = rhon[n-1][1:]-Vmax*(1-2*rhon[n-1][1:]/rhomax)*Dt/dx*(rhon[n-1][1:]-rhon[n-1][0:-1]) \n",
    "    \n",
    "pyplot.plot(x, rho[1], color='#003366', ls='--', lw=3)"
   ]
  },
  {
   "cell_type": "code",
   "execution_count": null,
   "metadata": {
    "collapsed": true
   },
   "outputs": [],
   "source": [
    "\n"
   ]
  }
 ],
 "metadata": {
  "kernelspec": {
   "display_name": "Python 3",
   "language": "python",
   "name": "python3"
  },
  "language_info": {
   "codemirror_mode": {
    "name": "ipython",
    "version": 3
   },
   "file_extension": ".py",
   "mimetype": "text/x-python",
   "name": "python",
   "nbconvert_exporter": "python",
   "pygments_lexer": "ipython3",
   "version": "3.4.3"
  }
 },
 "nbformat": 4,
 "nbformat_minor": 0
}
